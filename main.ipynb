{
  "metadata": {
    "kernelspec": {
      "name": "python3",
      "display_name": "Python 3 (ipykernel)",
      "language": "python"
    },
    "colab": {
      "provenance": []
    }
  },
  "nbformat": 4,
  "nbformat_minor": 0,
  "cells": [
    {
      "cell_type": "code",
      "execution_count": 1,
      "metadata": {
        "id": "2sy5vkwqDL2i"
      },
      "outputs": [],
      "source": [
        "import math\n",
        "import string\n",
        "\n",
        "import matplotlib.pyplot as plt\n",
        "import numpy as np\n",
        "import pandas as pd\n",
        "import seaborn as sns\n",
        "\n",
        "from sklearn.linear_model import LogisticRegression\n",
        "from sklearn.metrics import accuracy_score\n",
        "from sklearn.model_selection import train_test_split\n",
        "from sklearn.feature_extraction.text import CountVectorizer\n",
        "from sklearn.feature_extraction import DictVectorizer\n",
        "\n",
        "sns.set()\n",
        "%matplotlib inline\n",
        "\n",
        "# Set seed\n",
        "np.random.seed(416)"
      ]
    },
    {
      "cell_type": "markdown",
      "metadata": {
        "id": "-MheUMlzDL2j"
      },
      "source": [
        "# Data preparation\n",
        "\n",
        "We will use a dataset consisting of food product reviews on Amazon.com "
      ]
    },
    {
      "cell_type": "code",
      "execution_count": 2,
      "metadata": {
        "colab": {
          "base_uri": "https://localhost:8080/",
          "height": 423
        },
        "id": "inY8K23YDL2k",
        "outputId": "18ffeb9f-7710-426a-96be-a25f933bdfa7"
      },
      "outputs": [
        {
          "output_type": "execute_result",
          "data": {
            "text/plain": [
              "      product_id                            summary  \\\n",
              "0           4408          Does increase milk supply   \n",
              "1           4209  One bad packet ruins the product!   \n",
              "2           8623                CAULIFLOWER PASTA!?   \n",
              "3           9439              Tasty and inexpensive   \n",
              "4           7110                       I'm Confused   \n",
              "...          ...                                ...   \n",
              "1245        2870                 10 times the price   \n",
              "1246        8823            Sweet & Crunchy Peanuts   \n",
              "1247        6343               Annies GF Mac Deluxe   \n",
              "1248        5801          OK, but Check the Pricing   \n",
              "1249        5115           JUST DOESN'T WORK FOR ME   \n",
              "\n",
              "                                                 review  rating  \n",
              "0     This really helped to increase my milk supply....     3.0  \n",
              "1     I should have stayed with Idahoan brand. Poor ...     1.0  \n",
              "2     As the pasta cooked, I read the box to see wha...     4.0  \n",
              "3     I really like this cereal. The flavor is sligh...     5.0  \n",
              "4     The label on the bowl says 35 grams is in the ...     2.0  \n",
              "...                                                 ...     ...  \n",
              "1245  I recently bought Domino 10 lb premium cane su...     1.0  \n",
              "1246  While these are not the highest quality peanut...     3.0  \n",
              "1247  I had been using Annies GF Mac n Cheese, then ...     4.0  \n",
              "1248  Dr. Oz recommended this brand of coconut water...     3.0  \n",
              "1249  I TAKE CHANCES WITH THINGS I SHOULDN'T.  END R...     2.0  \n",
              "\n",
              "[1250 rows x 4 columns]"
            ],
            "text/html": [
              "\n",
              "  <div id=\"df-ae63a55b-19f8-44fd-8c78-0f4b56a136bc\">\n",
              "    <div class=\"colab-df-container\">\n",
              "      <div>\n",
              "<style scoped>\n",
              "    .dataframe tbody tr th:only-of-type {\n",
              "        vertical-align: middle;\n",
              "    }\n",
              "\n",
              "    .dataframe tbody tr th {\n",
              "        vertical-align: top;\n",
              "    }\n",
              "\n",
              "    .dataframe thead th {\n",
              "        text-align: right;\n",
              "    }\n",
              "</style>\n",
              "<table border=\"1\" class=\"dataframe\">\n",
              "  <thead>\n",
              "    <tr style=\"text-align: right;\">\n",
              "      <th></th>\n",
              "      <th>product_id</th>\n",
              "      <th>summary</th>\n",
              "      <th>review</th>\n",
              "      <th>rating</th>\n",
              "    </tr>\n",
              "  </thead>\n",
              "  <tbody>\n",
              "    <tr>\n",
              "      <th>0</th>\n",
              "      <td>4408</td>\n",
              "      <td>Does increase milk supply</td>\n",
              "      <td>This really helped to increase my milk supply....</td>\n",
              "      <td>3.0</td>\n",
              "    </tr>\n",
              "    <tr>\n",
              "      <th>1</th>\n",
              "      <td>4209</td>\n",
              "      <td>One bad packet ruins the product!</td>\n",
              "      <td>I should have stayed with Idahoan brand. Poor ...</td>\n",
              "      <td>1.0</td>\n",
              "    </tr>\n",
              "    <tr>\n",
              "      <th>2</th>\n",
              "      <td>8623</td>\n",
              "      <td>CAULIFLOWER PASTA!?</td>\n",
              "      <td>As the pasta cooked, I read the box to see wha...</td>\n",
              "      <td>4.0</td>\n",
              "    </tr>\n",
              "    <tr>\n",
              "      <th>3</th>\n",
              "      <td>9439</td>\n",
              "      <td>Tasty and inexpensive</td>\n",
              "      <td>I really like this cereal. The flavor is sligh...</td>\n",
              "      <td>5.0</td>\n",
              "    </tr>\n",
              "    <tr>\n",
              "      <th>4</th>\n",
              "      <td>7110</td>\n",
              "      <td>I'm Confused</td>\n",
              "      <td>The label on the bowl says 35 grams is in the ...</td>\n",
              "      <td>2.0</td>\n",
              "    </tr>\n",
              "    <tr>\n",
              "      <th>...</th>\n",
              "      <td>...</td>\n",
              "      <td>...</td>\n",
              "      <td>...</td>\n",
              "      <td>...</td>\n",
              "    </tr>\n",
              "    <tr>\n",
              "      <th>1245</th>\n",
              "      <td>2870</td>\n",
              "      <td>10 times the price</td>\n",
              "      <td>I recently bought Domino 10 lb premium cane su...</td>\n",
              "      <td>1.0</td>\n",
              "    </tr>\n",
              "    <tr>\n",
              "      <th>1246</th>\n",
              "      <td>8823</td>\n",
              "      <td>Sweet &amp; Crunchy Peanuts</td>\n",
              "      <td>While these are not the highest quality peanut...</td>\n",
              "      <td>3.0</td>\n",
              "    </tr>\n",
              "    <tr>\n",
              "      <th>1247</th>\n",
              "      <td>6343</td>\n",
              "      <td>Annies GF Mac Deluxe</td>\n",
              "      <td>I had been using Annies GF Mac n Cheese, then ...</td>\n",
              "      <td>4.0</td>\n",
              "    </tr>\n",
              "    <tr>\n",
              "      <th>1248</th>\n",
              "      <td>5801</td>\n",
              "      <td>OK, but Check the Pricing</td>\n",
              "      <td>Dr. Oz recommended this brand of coconut water...</td>\n",
              "      <td>3.0</td>\n",
              "    </tr>\n",
              "    <tr>\n",
              "      <th>1249</th>\n",
              "      <td>5115</td>\n",
              "      <td>JUST DOESN'T WORK FOR ME</td>\n",
              "      <td>I TAKE CHANCES WITH THINGS I SHOULDN'T.  END R...</td>\n",
              "      <td>2.0</td>\n",
              "    </tr>\n",
              "  </tbody>\n",
              "</table>\n",
              "<p>1250 rows × 4 columns</p>\n",
              "</div>\n",
              "      <button class=\"colab-df-convert\" onclick=\"convertToInteractive('df-ae63a55b-19f8-44fd-8c78-0f4b56a136bc')\"\n",
              "              title=\"Convert this dataframe to an interactive table.\"\n",
              "              style=\"display:none;\">\n",
              "        \n",
              "  <svg xmlns=\"http://www.w3.org/2000/svg\" height=\"24px\"viewBox=\"0 0 24 24\"\n",
              "       width=\"24px\">\n",
              "    <path d=\"M0 0h24v24H0V0z\" fill=\"none\"/>\n",
              "    <path d=\"M18.56 5.44l.94 2.06.94-2.06 2.06-.94-2.06-.94-.94-2.06-.94 2.06-2.06.94zm-11 1L8.5 8.5l.94-2.06 2.06-.94-2.06-.94L8.5 2.5l-.94 2.06-2.06.94zm10 10l.94 2.06.94-2.06 2.06-.94-2.06-.94-.94-2.06-.94 2.06-2.06.94z\"/><path d=\"M17.41 7.96l-1.37-1.37c-.4-.4-.92-.59-1.43-.59-.52 0-1.04.2-1.43.59L10.3 9.45l-7.72 7.72c-.78.78-.78 2.05 0 2.83L4 21.41c.39.39.9.59 1.41.59.51 0 1.02-.2 1.41-.59l7.78-7.78 2.81-2.81c.8-.78.8-2.07 0-2.86zM5.41 20L4 18.59l7.72-7.72 1.47 1.35L5.41 20z\"/>\n",
              "  </svg>\n",
              "      </button>\n",
              "      \n",
              "  <style>\n",
              "    .colab-df-container {\n",
              "      display:flex;\n",
              "      flex-wrap:wrap;\n",
              "      gap: 12px;\n",
              "    }\n",
              "\n",
              "    .colab-df-convert {\n",
              "      background-color: #E8F0FE;\n",
              "      border: none;\n",
              "      border-radius: 50%;\n",
              "      cursor: pointer;\n",
              "      display: none;\n",
              "      fill: #1967D2;\n",
              "      height: 32px;\n",
              "      padding: 0 0 0 0;\n",
              "      width: 32px;\n",
              "    }\n",
              "\n",
              "    .colab-df-convert:hover {\n",
              "      background-color: #E2EBFA;\n",
              "      box-shadow: 0px 1px 2px rgba(60, 64, 67, 0.3), 0px 1px 3px 1px rgba(60, 64, 67, 0.15);\n",
              "      fill: #174EA6;\n",
              "    }\n",
              "\n",
              "    [theme=dark] .colab-df-convert {\n",
              "      background-color: #3B4455;\n",
              "      fill: #D2E3FC;\n",
              "    }\n",
              "\n",
              "    [theme=dark] .colab-df-convert:hover {\n",
              "      background-color: #434B5C;\n",
              "      box-shadow: 0px 1px 3px 1px rgba(0, 0, 0, 0.15);\n",
              "      filter: drop-shadow(0px 1px 2px rgba(0, 0, 0, 0.3));\n",
              "      fill: #FFFFFF;\n",
              "    }\n",
              "  </style>\n",
              "\n",
              "      <script>\n",
              "        const buttonEl =\n",
              "          document.querySelector('#df-ae63a55b-19f8-44fd-8c78-0f4b56a136bc button.colab-df-convert');\n",
              "        buttonEl.style.display =\n",
              "          google.colab.kernel.accessAllowed ? 'block' : 'none';\n",
              "\n",
              "        async function convertToInteractive(key) {\n",
              "          const element = document.querySelector('#df-ae63a55b-19f8-44fd-8c78-0f4b56a136bc');\n",
              "          const dataTable =\n",
              "            await google.colab.kernel.invokeFunction('convertToInteractive',\n",
              "                                                     [key], {});\n",
              "          if (!dataTable) return;\n",
              "\n",
              "          const docLinkHtml = 'Like what you see? Visit the ' +\n",
              "            '<a target=\"_blank\" href=https://colab.research.google.com/notebooks/data_table.ipynb>data table notebook</a>'\n",
              "            + ' to learn more about interactive tables.';\n",
              "          element.innerHTML = '';\n",
              "          dataTable['output_type'] = 'display_data';\n",
              "          await google.colab.output.renderOutput(dataTable, element);\n",
              "          const docLink = document.createElement('div');\n",
              "          docLink.innerHTML = docLinkHtml;\n",
              "          element.appendChild(docLink);\n",
              "        }\n",
              "      </script>\n",
              "    </div>\n",
              "  </div>\n",
              "  "
            ]
          },
          "metadata": {},
          "execution_count": 2
        }
      ],
      "source": [
        "products = pd.read_csv('https://raw.githubusercontent.com/johnwise143/data/main/food_products.csv')\n",
        "products"
      ]
    },
    {
      "cell_type": "markdown",
      "metadata": {
        "id": "2urG7UlIDL2l"
      },
      "source": [
        "## Extract sentiments\n",
        "\n",
        "We will **ignore** all reviews with *rating = 3*, since they tend to have a neutral sentiment."
      ]
    },
    {
      "cell_type": "code",
      "execution_count": 3,
      "metadata": {
        "colab": {
          "base_uri": "https://localhost:8080/"
        },
        "id": "9C_8h39ADL2l",
        "outputId": "fceedf5d-f339-4d06-86d8-f34d023b5386"
      },
      "outputs": [
        {
          "output_type": "stream",
          "name": "stdout",
          "text": [
            "889\n"
          ]
        }
      ],
      "source": [
        "products = products[products['rating'] != 3]\n",
        "products = products.copy()\n",
        "print(len(products))"
      ]
    },
    {
      "cell_type": "code",
      "execution_count": 4,
      "metadata": {
        "colab": {
          "base_uri": "https://localhost:8080/",
          "height": 318
        },
        "id": "mMRSExdpDL2m",
        "outputId": "e80c2e40-87c8-47b0-c2b0-dcc647378e6a"
      },
      "outputs": [
        {
          "output_type": "execute_result",
          "data": {
            "text/plain": [
              "<matplotlib.axes._subplots.AxesSubplot at 0x7f4a8aae9c70>"
            ]
          },
          "metadata": {},
          "execution_count": 4
        },
        {
          "output_type": "display_data",
          "data": {
            "text/plain": [
              "<Figure size 432x288 with 1 Axes>"
            ],
            "image/png": "[encoded data removed]"
          },
          "metadata": {
            "needs_background": "light"
          }
        }
      ],
      "source": [
        "plt.title('Number of reviews with a given rating')\n",
        "sns.histplot(products['rating'])"
      ]
    },
    {
      "cell_type": "markdown",
      "metadata": {
        "id": "FBWwmSCUDL2n"
      },
      "source": [
        "Now, we will assign reviews with a rating of 4 or higher to be *positive* reviews, while the ones with rating of 2 or lower are *negative*. For the sentiment column, we use +1 for the positive class label and -1 for the negative class label."
      ]
    },
    {
      "cell_type": "code",
      "execution_count": 5,
      "metadata": {
        "colab": {
          "base_uri": "https://localhost:8080/",
          "height": 206
        },
        "id": "d4tdrUFKDL2o",
        "outputId": "a65b0971-7f55-4990-c146-009f0618546f"
      },
      "outputs": [
        {
          "output_type": "execute_result",
          "data": {
            "text/plain": [
              "   product_id                            summary  \\\n",
              "1        4209  One bad packet ruins the product!   \n",
              "2        8623                CAULIFLOWER PASTA!?   \n",
              "3        9439              Tasty and inexpensive   \n",
              "4        7110                       I'm Confused   \n",
              "5        1373                               Flat   \n",
              "\n",
              "                                              review  rating  sentiment  \n",
              "1  I should have stayed with Idahoan brand. Poor ...     1.0         -1  \n",
              "2  As the pasta cooked, I read the box to see wha...     4.0          1  \n",
              "3  I really like this cereal. The flavor is sligh...     5.0          1  \n",
              "4  The label on the bowl says 35 grams is in the ...     2.0         -1  \n",
              "5  Doesn't taste like ginger.  Thought it would s...     2.0         -1  "
            ],
            "text/html": [
              "\n",
              "  <div id=\"df-8f907439-391d-4fc1-afa5-799525346162\">\n",
              "    <div class=\"colab-df-container\">\n",
              "      <div>\n",
              "<style scoped>\n",
              "    .dataframe tbody tr th:only-of-type {\n",
              "        vertical-align: middle;\n",
              "    }\n",
              "\n",
              "    .dataframe tbody tr th {\n",
              "        vertical-align: top;\n",
              "    }\n",
              "\n",
              "    .dataframe thead th {\n",
              "        text-align: right;\n",
              "    }\n",
              "</style>\n",
              "<table border=\"1\" class=\"dataframe\">\n",
              "  <thead>\n",
              "    <tr style=\"text-align: right;\">\n",
              "      <th></th>\n",
              "      <th>product_id</th>\n",
              "      <th>summary</th>\n",
              "      <th>review</th>\n",
              "      <th>rating</th>\n",
              "      <th>sentiment</th>\n",
              "    </tr>\n",
              "  </thead>\n",
              "  <tbody>\n",
              "    <tr>\n",
              "      <th>1</th>\n",
              "      <td>4209</td>\n",
              "      <td>One bad packet ruins the product!</td>\n",
              "      <td>I should have stayed with Idahoan brand. Poor ...</td>\n",
              "      <td>1.0</td>\n",
              "      <td>-1</td>\n",
              "    </tr>\n",
              "    <tr>\n",
              "      <th>2</th>\n",
              "      <td>8623</td>\n",
              "      <td>CAULIFLOWER PASTA!?</td>\n",
              "      <td>As the pasta cooked, I read the box to see wha...</td>\n",
              "      <td>4.0</td>\n",
              "      <td>1</td>\n",
              "    </tr>\n",
              "    <tr>\n",
              "      <th>3</th>\n",
              "      <td>9439</td>\n",
              "      <td>Tasty and inexpensive</td>\n",
              "      <td>I really like this cereal. The flavor is sligh...</td>\n",
              "      <td>5.0</td>\n",
              "      <td>1</td>\n",
              "    </tr>\n",
              "    <tr>\n",
              "      <th>4</th>\n",
              "      <td>7110</td>\n",
              "      <td>I'm Confused</td>\n",
              "      <td>The label on the bowl says 35 grams is in the ...</td>\n",
              "      <td>2.0</td>\n",
              "      <td>-1</td>\n",
              "    </tr>\n",
              "    <tr>\n",
              "      <th>5</th>\n",
              "      <td>1373</td>\n",
              "      <td>Flat</td>\n",
              "      <td>Doesn't taste like ginger.  Thought it would s...</td>\n",
              "      <td>2.0</td>\n",
              "      <td>-1</td>\n",
              "    </tr>\n",
              "  </tbody>\n",
              "</table>\n",
              "</div>\n",
              "      <button class=\"colab-df-convert\" onclick=\"convertToInteractive('df-8f907439-391d-4fc1-afa5-799525346162')\"\n",
              "              title=\"Convert this dataframe to an interactive table.\"\n",
              "              style=\"display:none;\">\n",
              "        \n",
              "  <svg xmlns=\"http://www.w3.org/2000/svg\" height=\"24px\"viewBox=\"0 0 24 24\"\n",
              "       width=\"24px\">\n",
              "    <path d=\"M0 0h24v24H0V0z\" fill=\"none\"/>\n",
              "    <path d=\"M18.56 5.44l.94 2.06.94-2.06 2.06-.94-2.06-.94-.94-2.06-.94 2.06-2.06.94zm-11 1L8.5 8.5l.94-2.06 2.06-.94-2.06-.94L8.5 2.5l-.94 2.06-2.06.94zm10 10l.94 2.06.94-2.06 2.06-.94-2.06-.94-.94-2.06-.94 2.06-2.06.94z\"/><path d=\"M17.41 7.96l-1.37-1.37c-.4-.4-.92-.59-1.43-.59-.52 0-1.04.2-1.43.59L10.3 9.45l-7.72 7.72c-.78.78-.78 2.05 0 2.83L4 21.41c.39.39.9.59 1.41.59.51 0 1.02-.2 1.41-.59l7.78-7.78 2.81-2.81c.8-.78.8-2.07 0-2.86zM5.41 20L4 18.59l7.72-7.72 1.47 1.35L5.41 20z\"/>\n",
              "  </svg>\n",
              "      </button>\n",
              "      \n",
              "  <style>\n",
              "    .colab-df-container {\n",
              "      display:flex;\n",
              "      flex-wrap:wrap;\n",
              "      gap: 12px;\n",
              "    }\n",
              "\n",
              "    .colab-df-convert {\n",
              "      background-color: #E8F0FE;\n",
              "      border: none;\n",
              "      border-radius: 50%;\n",
              "      cursor: pointer;\n",
              "      display: none;\n",
              "      fill: #1967D2;\n",
              "      height: 32px;\n",
              "      padding: 0 0 0 0;\n",
              "      width: 32px;\n",
              "    }\n",
              "\n",
              "    .colab-df-convert:hover {\n",
              "      background-color: #E2EBFA;\n",
              "      box-shadow: 0px 1px 2px rgba(60, 64, 67, 0.3), 0px 1px 3px 1px rgba(60, 64, 67, 0.15);\n",
              "      fill: #174EA6;\n",
              "    }\n",
              "\n",
              "    [theme=dark] .colab-df-convert {\n",
              "      background-color: #3B4455;\n",
              "      fill: #D2E3FC;\n",
              "    }\n",
              "\n",
              "    [theme=dark] .colab-df-convert:hover {\n",
              "      background-color: #434B5C;\n",
              "      box-shadow: 0px 1px 3px 1px rgba(0, 0, 0, 0.15);\n",
              "      filter: drop-shadow(0px 1px 2px rgba(0, 0, 0, 0.3));\n",
              "      fill: #FFFFFF;\n",
              "    }\n",
              "  </style>\n",
              "\n",
              "      <script>\n",
              "        const buttonEl =\n",
              "          document.querySelector('#df-8f907439-391d-4fc1-afa5-799525346162 button.colab-df-convert');\n",
              "        buttonEl.style.display =\n",
              "          google.colab.kernel.accessAllowed ? 'block' : 'none';\n",
              "\n",
              "        async function convertToInteractive(key) {\n",
              "          const element = document.querySelector('#df-8f907439-391d-4fc1-afa5-799525346162');\n",
              "          const dataTable =\n",
              "            await google.colab.kernel.invokeFunction('convertToInteractive',\n",
              "                                                     [key], {});\n",
              "          if (!dataTable) return;\n",
              "\n",
              "          const docLinkHtml = 'Like what you see? Visit the ' +\n",
              "            '<a target=\"_blank\" href=https://colab.research.google.com/notebooks/data_table.ipynb>data table notebook</a>'\n",
              "            + ' to learn more about interactive tables.';\n",
              "          element.innerHTML = '';\n",
              "          dataTable['output_type'] = 'display_data';\n",
              "          await google.colab.output.renderOutput(dataTable, element);\n",
              "          const docLink = document.createElement('div');\n",
              "          docLink.innerHTML = docLinkHtml;\n",
              "          element.appendChild(docLink);\n",
              "        }\n",
              "      </script>\n",
              "    </div>\n",
              "  </div>\n",
              "  "
            ]
          },
          "metadata": {},
          "execution_count": 5
        }
      ],
      "source": [
        "products['sentiment'] = products['rating'].apply(lambda rating : +1 if rating > 3 else -1)\n",
        "products.head()"
      ]
    },
    {
      "cell_type": "markdown",
      "metadata": {
        "id": "u-6P1Dn2DL2p"
      },
      "source": [
        "Now, we can see that the dataset contains an extra column called **sentiment** which is either positive (+1) or negative (-1)."
      ]
    },
    {
      "cell_type": "markdown",
      "metadata": {
        "id": "edi7KsKSDL2p"
      },
      "source": [
        "## Build the word count vector for each review"
      ]
    },
    {
      "cell_type": "markdown",
      "metadata": {
        "id": "_B-kz4kHDL2p"
      },
      "source": [
        "Let us explore a specific example of a food product. We have information about the product, the review left, and both the rating that was given and the sentiment label we computed."
      ]
    },
    {
      "cell_type": "code",
      "execution_count": 6,
      "metadata": {
        "colab": {
          "base_uri": "https://localhost:8080/"
        },
        "id": "oPJy1u5GDL2q",
        "outputId": "d4833c93-ce76-40c5-86d9-0a3aac6e3a60"
      },
      "outputs": [
        {
          "output_type": "execute_result",
          "data": {
            "text/plain": [
              "product_id                                                  918\n",
              "summary                                It's PRIME-arily Lobster\n",
              "review        if it's primarily made from lobster, what else...\n",
              "rating                                                      4.0\n",
              "sentiment                                                     1\n",
              "Name: 34, dtype: object"
            ]
          },
          "metadata": {},
          "execution_count": 6
        }
      ],
      "source": [
        "products.iloc[21]"
      ]
    },
    {
      "cell_type": "markdown",
      "metadata": {
        "id": "Bi-NOHgADL2r"
      },
      "source": [
        "To work with the text data, we will need to eventually turn it into word counts. In other words, we will be making a feature for every word that could possibly appear in the data, and the value for that feature for one example would be the number of times that word appears in that example. \n",
        "\n",
        "To accomplish this, we will need to do two data transformation:\n",
        "\n",
        "1. Remove punctuation\n",
        "2. Transform the reviews into word-counts.\n"
      ]
    },
    {
      "cell_type": "code",
      "execution_count": 7,
      "metadata": {
        "id": "rGn5kr9mDL2r"
      },
      "outputs": [],
      "source": [
        "def remove_punctuation(text):\n",
        "    if type(text) is str:\n",
        "        return text.translate(str.maketrans('', '', string.punctuation))\n",
        "    else:\n",
        "        return ''\n",
        "    \n",
        "products['review_clean'] = products['review'].apply(remove_punctuation)"
      ]
    },
    {
      "cell_type": "markdown",
      "metadata": {
        "id": "BKJV404XDL2r"
      },
      "source": [
        "Next, we use scikit-learn's countvectorizer to get counts for each word. "
      ]
    },
    {
      "cell_type": "code",
      "execution_count": 8,
      "metadata": {
        "colab": {
          "base_uri": "https://localhost:8080/",
          "height": 366
        },
        "id": "qHkknZKiDL2s",
        "outputId": "c8326f19-03da-4ded-bf7d-96e133cda105"
      },
      "outputs": [
        {
          "output_type": "execute_result",
          "data": {
            "text/plain": [
              "   0000  002  004  004oz  012months  032  051  08  0f  10  ...  zico1  zico3  \\\n",
              "1     0    0    0      0          0    0    0   0   0   0  ...      0      0   \n",
              "2     0    0    0      0          0    0    0   0   0   0  ...      0      0   \n",
              "3     0    0    0      0          0    0    0   0   0   0  ...      0      0   \n",
              "4     0    0    0      0          0    0    0   0   0   0  ...      0      0   \n",
              "5     0    0    0      0          0    0    0   0   0   0  ...      0      0   \n",
              "\n",
              "   zicos  zillion  zinger  zip  ziplock  sentiment  \\\n",
              "1      0        0       0    0        0         -1   \n",
              "2      0        0       0    0        0          1   \n",
              "3      0        0       0    0        0          1   \n",
              "4      0        0       0    0        0         -1   \n",
              "5      0        0       0    0        0         -1   \n",
              "\n",
              "                                        review_clean  \\\n",
              "1  I should have stayed with Idahoan brand Poor B...   \n",
              "2  As the pasta cooked I read the box to see what...   \n",
              "3  I really like this cereal The flavor is slight...   \n",
              "4  The label on the bowl says 35 grams is in the ...   \n",
              "5  Doesnt taste like ginger  Thought it would sav...   \n",
              "\n",
              "                             summary  \n",
              "1  One bad packet ruins the product!  \n",
              "2                CAULIFLOWER PASTA!?  \n",
              "3              Tasty and inexpensive  \n",
              "4                       I'm Confused  \n",
              "5                               Flat  \n",
              "\n",
              "[5 rows x 7628 columns]"
            ],
            "text/html": [
              "\n",
              "  <div id=\"df-0b11e451-cde5-488a-b91f-5c5875286ddf\">\n",
              "    <div class=\"colab-df-container\">\n",
              "      <div>\n",
              "<style scoped>\n",
              "    .dataframe tbody tr th:only-of-type {\n",
              "        vertical-align: middle;\n",
              "    }\n",
              "\n",
              "    .dataframe tbody tr th {\n",
              "        vertical-align: top;\n",
              "    }\n",
              "\n",
              "    .dataframe thead th {\n",
              "        text-align: right;\n",
              "    }\n",
              "</style>\n",
              "<table border=\"1\" class=\"dataframe\">\n",
              "  <thead>\n",
              "    <tr style=\"text-align: right;\">\n",
              "      <th></th>\n",
              "      <th>0000</th>\n",
              "      <th>002</th>\n",
              "      <th>004</th>\n",
              "      <th>004oz</th>\n",
              "      <th>012months</th>\n",
              "      <th>032</th>\n",
              "      <th>051</th>\n",
              "      <th>08</th>\n",
              "      <th>0f</th>\n",
              "      <th>10</th>\n",
              "      <th>...</th>\n",
              "      <th>zico1</th>\n",
              "      <th>zico3</th>\n",
              "      <th>zicos</th>\n",
              "      <th>zillion</th>\n",
              "      <th>zinger</th>\n",
              "      <th>zip</th>\n",
              "      <th>ziplock</th>\n",
              "      <th>sentiment</th>\n",
              "      <th>review_clean</th>\n",
              "      <th>summary</th>\n",
              "    </tr>\n",
              "  </thead>\n",
              "  <tbody>\n",
              "    <tr>\n",
              "      <th>1</th>\n",
              "      <td>0</td>\n",
              "      <td>0</td>\n",
              "      <td>0</td>\n",
              "      <td>0</td>\n",
              "      <td>0</td>\n",
              "      <td>0</td>\n",
              "      <td>0</td>\n",
              "      <td>0</td>\n",
              "      <td>0</td>\n",
              "      <td>0</td>\n",
              "      <td>...</td>\n",
              "      <td>0</td>\n",
              "      <td>0</td>\n",
              "      <td>0</td>\n",
              "      <td>0</td>\n",
              "      <td>0</td>\n",
              "      <td>0</td>\n",
              "      <td>0</td>\n",
              "      <td>-1</td>\n",
              "      <td>I should have stayed with Idahoan brand Poor B...</td>\n",
              "      <td>One bad packet ruins the product!</td>\n",
              "    </tr>\n",
              "    <tr>\n",
              "      <th>2</th>\n",
              "      <td>0</td>\n",
              "      <td>0</td>\n",
              "      <td>0</td>\n",
              "      <td>0</td>\n",
              "      <td>0</td>\n",
              "      <td>0</td>\n",
              "      <td>0</td>\n",
              "      <td>0</td>\n",
              "      <td>0</td>\n",
              "      <td>0</td>\n",
              "      <td>...</td>\n",
              "      <td>0</td>\n",
              "      <td>0</td>\n",
              "      <td>0</td>\n",
              "      <td>0</td>\n",
              "      <td>0</td>\n",
              "      <td>0</td>\n",
              "      <td>0</td>\n",
              "      <td>1</td>\n",
              "      <td>As the pasta cooked I read the box to see what...</td>\n",
              "      <td>CAULIFLOWER PASTA!?</td>\n",
              "    </tr>\n",
              "    <tr>\n",
              "      <th>3</th>\n",
              "      <td>0</td>\n",
              "      <td>0</td>\n",
              "      <td>0</td>\n",
              "      <td>0</td>\n",
              "      <td>0</td>\n",
              "      <td>0</td>\n",
              "      <td>0</td>\n",
              "      <td>0</td>\n",
              "      <td>0</td>\n",
              "      <td>0</td>\n",
              "      <td>...</td>\n",
              "      <td>0</td>\n",
              "      <td>0</td>\n",
              "      <td>0</td>\n",
              "      <td>0</td>\n",
              "      <td>0</td>\n",
              "      <td>0</td>\n",
              "      <td>0</td>\n",
              "      <td>1</td>\n",
              "      <td>I really like this cereal The flavor is slight...</td>\n",
              "      <td>Tasty and inexpensive</td>\n",
              "    </tr>\n",
              "    <tr>\n",
              "      <th>4</th>\n",
              "      <td>0</td>\n",
              "      <td>0</td>\n",
              "      <td>0</td>\n",
              "      <td>0</td>\n",
              "      <td>0</td>\n",
              "      <td>0</td>\n",
              "      <td>0</td>\n",
              "      <td>0</td>\n",
              "      <td>0</td>\n",
              "      <td>0</td>\n",
              "      <td>...</td>\n",
              "      <td>0</td>\n",
              "      <td>0</td>\n",
              "      <td>0</td>\n",
              "      <td>0</td>\n",
              "      <td>0</td>\n",
              "      <td>0</td>\n",
              "      <td>0</td>\n",
              "      <td>-1</td>\n",
              "      <td>The label on the bowl says 35 grams is in the ...</td>\n",
              "      <td>I'm Confused</td>\n",
              "    </tr>\n",
              "    <tr>\n",
              "      <th>5</th>\n",
              "      <td>0</td>\n",
              "      <td>0</td>\n",
              "      <td>0</td>\n",
              "      <td>0</td>\n",
              "      <td>0</td>\n",
              "      <td>0</td>\n",
              "      <td>0</td>\n",
              "      <td>0</td>\n",
              "      <td>0</td>\n",
              "      <td>0</td>\n",
              "      <td>...</td>\n",
              "      <td>0</td>\n",
              "      <td>0</td>\n",
              "      <td>0</td>\n",
              "      <td>0</td>\n",
              "      <td>0</td>\n",
              "      <td>0</td>\n",
              "      <td>0</td>\n",
              "      <td>-1</td>\n",
              "      <td>Doesnt taste like ginger  Thought it would sav...</td>\n",
              "      <td>Flat</td>\n",
              "    </tr>\n",
              "  </tbody>\n",
              "</table>\n",
              "<p>5 rows × 7628 columns</p>\n",
              "</div>\n",
              "      <button class=\"colab-df-convert\" onclick=\"convertToInteractive('df-0b11e451-cde5-488a-b91f-5c5875286ddf')\"\n",
              "              title=\"Convert this dataframe to an interactive table.\"\n",
              "              style=\"display:none;\">\n",
              "        \n",
              "  <svg xmlns=\"http://www.w3.org/2000/svg\" height=\"24px\"viewBox=\"0 0 24 24\"\n",
              "       width=\"24px\">\n",
              "    <path d=\"M0 0h24v24H0V0z\" fill=\"none\"/>\n",
              "    <path d=\"M18.56 5.44l.94 2.06.94-2.06 2.06-.94-2.06-.94-.94-2.06-.94 2.06-2.06.94zm-11 1L8.5 8.5l.94-2.06 2.06-.94-2.06-.94L8.5 2.5l-.94 2.06-2.06.94zm10 10l.94 2.06.94-2.06 2.06-.94-2.06-.94-.94-2.06-.94 2.06-2.06.94z\"/><path d=\"M17.41 7.96l-1.37-1.37c-.4-.4-.92-.59-1.43-.59-.52 0-1.04.2-1.43.59L10.3 9.45l-7.72 7.72c-.78.78-.78 2.05 0 2.83L4 21.41c.39.39.9.59 1.41.59.51 0 1.02-.2 1.41-.59l7.78-7.78 2.81-2.81c.8-.78.8-2.07 0-2.86zM5.41 20L4 18.59l7.72-7.72 1.47 1.35L5.41 20z\"/>\n",
              "  </svg>\n",
              "      </button>\n",
              "      \n",
              "  <style>\n",
              "    .colab-df-container {\n",
              "      display:flex;\n",
              "      flex-wrap:wrap;\n",
              "      gap: 12px;\n",
              "    }\n",
              "\n",
              "    .colab-df-convert {\n",
              "      background-color: #E8F0FE;\n",
              "      border: none;\n",
              "      border-radius: 50%;\n",
              "      cursor: pointer;\n",
              "      display: none;\n",
              "      fill: #1967D2;\n",
              "      height: 32px;\n",
              "      padding: 0 0 0 0;\n",
              "      width: 32px;\n",
              "    }\n",
              "\n",
              "    .colab-df-convert:hover {\n",
              "      background-color: #E2EBFA;\n",
              "      box-shadow: 0px 1px 2px rgba(60, 64, 67, 0.3), 0px 1px 3px 1px rgba(60, 64, 67, 0.15);\n",
              "      fill: #174EA6;\n",
              "    }\n",
              "\n",
              "    [theme=dark] .colab-df-convert {\n",
              "      background-color: #3B4455;\n",
              "      fill: #D2E3FC;\n",
              "    }\n",
              "\n",
              "    [theme=dark] .colab-df-convert:hover {\n",
              "      background-color: #434B5C;\n",
              "      box-shadow: 0px 1px 3px 1px rgba(0, 0, 0, 0.15);\n",
              "      filter: drop-shadow(0px 1px 2px rgba(0, 0, 0, 0.3));\n",
              "      fill: #FFFFFF;\n",
              "    }\n",
              "  </style>\n",
              "\n",
              "      <script>\n",
              "        const buttonEl =\n",
              "          document.querySelector('#df-0b11e451-cde5-488a-b91f-5c5875286ddf button.colab-df-convert');\n",
              "        buttonEl.style.display =\n",
              "          google.colab.kernel.accessAllowed ? 'block' : 'none';\n",
              "\n",
              "        async function convertToInteractive(key) {\n",
              "          const element = document.querySelector('#df-0b11e451-cde5-488a-b91f-5c5875286ddf');\n",
              "          const dataTable =\n",
              "            await google.colab.kernel.invokeFunction('convertToInteractive',\n",
              "                                                     [key], {});\n",
              "          if (!dataTable) return;\n",
              "\n",
              "          const docLinkHtml = 'Like what you see? Visit the ' +\n",
              "            '<a target=\"_blank\" href=https://colab.research.google.com/notebooks/data_table.ipynb>data table notebook</a>'\n",
              "            + ' to learn more about interactive tables.';\n",
              "          element.innerHTML = '';\n",
              "          dataTable['output_type'] = 'display_data';\n",
              "          await google.colab.output.renderOutput(dataTable, element);\n",
              "          const docLink = document.createElement('div');\n",
              "          docLink.innerHTML = docLinkHtml;\n",
              "          element.appendChild(docLink);\n",
              "        }\n",
              "      </script>\n",
              "    </div>\n",
              "  </div>\n",
              "  "
            ]
          },
          "metadata": {},
          "execution_count": 8
        }
      ],
      "source": [
        "# Make counts\n",
        "vectorizer = CountVectorizer()\n",
        "count_matrix = vectorizer.fit_transform(products['review_clean'])\n",
        "\n",
        "# Make a new DataFrame with the counts information\n",
        "product_data = pd.DataFrame(count_matrix.toarray(),\n",
        "        index=products.index,\n",
        "        columns=vectorizer.get_feature_names_out())\n",
        "\n",
        "# Add the old columns to our new DataFrame. \n",
        "# We won't use review_clean and the summary in our model, but we will keep\n",
        "# them to look at later.\n",
        "product_data['sentiment'] = products['sentiment']\n",
        "product_data['review_clean'] = products['review_clean']  \n",
        "product_data['summary'] = products['summary']\n",
        "\n",
        "product_data.head()"
      ]
    },
    {
      "cell_type": "markdown",
      "metadata": {
        "id": "hQkM6i-hDL2s"
      },
      "source": [
        "We have now created a lot of features to work with! Note that in the table above, we will have one feature for each word taht appeared in the data and the value for that feature is the count of that word in that review. So for example, if review 5 had the word \"dog\" in it 3 times, the value in row 5 and column \"dog\" would be 3.\n",
        "\n",
        "## Split data into training, validation and test sets."
      ]
    },
    {
      "cell_type": "markdown",
      "metadata": {
        "id": "Nb0eNA8RDL2s"
      },
      "source": [
        "Let's perform a train/validation/test split with 80% of the data in the training set, 10% of the data in the validation set, 10% test."
      ]
    },
    {
      "cell_type": "code",
      "execution_count": 9,
      "metadata": {
        "id": "wgFRr-wGDL2t"
      },
      "outputs": [],
      "source": [
        "train_data, test_data = train_test_split(product_data, test_size=0.2)\n",
        "validation_data, test_data = train_test_split(test_data, test_size=0.5)"
      ]
    },
    {
      "cell_type": "markdown",
      "metadata": {
        "id": "wOGVaLiaDL2t"
      },
      "source": [
        "# Baseline: Majority class prediction\n",
        "\n",
        "It is quite common to use the **majority class classifier** as the a baseline (or reference) model for comparison with your classifier model. The majority classifier model predicts the majority class for all data points.\n",
        "\n",
        "To \"train\" the majority class classifier, you should simply find the most frequent target in the training data.\n",
        "\n",
        "### **Question 1:** Majority class classifier\n",
        "* Compute the most frequent label and store it in a variable called `majority_label`.\n",
        "* What is the validation accuracy of the majority class classifer. Store your result as a number between 0 and 1 in a variable called `majority_classifier_validation_accuracy`.\n",
        "  \n",
        "  *Hint:* pandas allows you to take the sum of a boolean series - true values are equal to 1, false values are equal 0."
      ]
    },
    {
      "cell_type": "code",
      "execution_count": 10,
      "metadata": {
        "id": "gG81yy_hDL2u"
      },
      "outputs": [],
      "source": [
        "### edTest(test_q1_majority_classifier) ###\n",
        "\n",
        "# TODO \"Train\" a majority class classifier and calculate its validation accuracy\n",
        "n = product_data.size\n",
        "n_positive = product_data[product_data['sentiment'] == 1].size\n",
        "majority_label = -1 if n > n_positive else 1\n",
        "\n",
        "n_val = validation_data.size\n",
        "n_val_correct = validation_data[validation_data['sentiment'] == majority_label].size\n",
        "majority_classifier_validation_accuracy = n_val_correct / n_val\n",
        "# print(majority_classifier_validation_accuracy)"
      ]
    },
    {
      "cell_type": "markdown",
      "metadata": {
        "id": "N3dzkAjtDL2u"
      },
      "source": [
        "# Train a sentiment classifier with logistic regression\n",
        "\n",
        "We will now use logistic regression to create a sentiment classifier on the training data. This model will use the columns representing word coutnts as features and the column **sentiment** as the target. We will set **no regularization penalty**.\n",
        "\n",
        "You can see scikit-learn's documentation for LogisticRegression [here](https://scikit-learn.org/stable/modules/generated/sklearn.linear_model.LogisticRegression.html). Note that the parameter for this class to control regularization is named `C` and it represents the inverse of the penalty strenght. In other words $C = \\frac{1}{\\lambda}$. This means to have very little regularization, we make `C` a very large number (corresponding to a very small $\\lambda$)."
      ]
    },
    {
      "cell_type": "code",
      "execution_count": 11,
      "metadata": {
        "colab": {
          "base_uri": "https://localhost:8080/"
        },
        "id": "5KPpcOK1DL2u",
        "outputId": "0285867c-1061-4987-8d48-9d032fcdd710"
      },
      "outputs": [
        {
          "output_type": "execute_result",
          "data": {
            "text/plain": [
              "LogisticRegression(C=1e+23)"
            ]
          },
          "metadata": {},
          "execution_count": 11
        }
      ],
      "source": [
        "features = vectorizer.get_feature_names_out()\n",
        "\n",
        "# Note: C = 1/Lambda. Setting C to a really high value is the same as setting lambda = 0\n",
        "sentiment_model = LogisticRegression(penalty='l2', C=1e23)\n",
        "sentiment_model.fit(train_data[features], train_data['sentiment'])"
      ]
    },
    {
      "cell_type": "markdown",
      "metadata": {
        "id": "UO2BNEknDL2v"
      },
      "source": [
        "Let's look at some of the coefficients and the corresponding words. The weights are stored in a `coef_` property: "
      ]
    },
    {
      "cell_type": "code",
      "execution_count": 12,
      "metadata": {
        "colab": {
          "base_uri": "https://localhost:8080/"
        },
        "id": "CHRGXVppDL2v",
        "outputId": "29865d94-19fd-48a9-8b7c-97a43b311952"
      },
      "outputs": [
        {
          "output_type": "stream",
          "name": "stdout",
          "text": [
            "Smallest coefficient -12.061144888132606\n",
            "Largest coefficient: 18.070453817504884\n"
          ]
        }
      ],
      "source": [
        "coefficients = sentiment_model.coef_[0] \n",
        "\n",
        "print('Smallest coefficient', coefficients.min())\n",
        "print('Largest coefficient:', coefficients.max())"
      ]
    },
    {
      "cell_type": "markdown",
      "metadata": {
        "id": "RbTNAwAUDL2v"
      },
      "source": [
        "### **Question 2:** Most Positive/Negative Word\n",
        "For the sentiment model we trained above, compute the word with the most negative weight and the word with the most positive weight.\n",
        "\n",
        "Store your results in the variables `most_negative_word` and `most_positive_word`.\n",
        "\n",
        "While you only need to write code to compute the most negative and most positive, we also recommend printing out the words with the highest magnitude coefficients to make sure they make sense.\n"
      ]
    },
    {
      "cell_type": "code",
      "execution_count": 13,
      "metadata": {
        "id": "LoroSs2oDL2v"
      },
      "outputs": [],
      "source": [
        "### edTest(test_q2_most_pos_neg_words) ###\n",
        "\n",
        "# TODO Find the most positive word and most negative word in the sentiment_model\n",
        "min_index = np.where(coefficients == coefficients.min())\n",
        "max_index = np.where(coefficients == coefficients.max())\n",
        "\n",
        "features = sentiment_model.feature_names_in_\n",
        "most_negative_word = features[min_index][0]\n",
        "most_positive_word = features[max_index][0]"
      ]
    },
    {
      "cell_type": "code",
      "execution_count": 14,
      "metadata": {
        "colab": {
          "base_uri": "https://localhost:8080/"
        },
        "id": "i2SeRYTuDL2v",
        "outputId": "f2a9cb90-90c9-4493-9f9a-c7bac75e3cd2"
      },
      "outputs": [
        {
          "output_type": "stream",
          "name": "stdout",
          "text": [
            "Most negative word: not\n",
            "Most positive word: great\n"
          ]
        }
      ],
      "source": [
        "print('Most negative word:', most_negative_word)\n",
        "print('Most positive word:', most_positive_word)"
      ]
    },
    {
      "cell_type": "markdown",
      "metadata": {
        "id": "wY3asuHWDL2w"
      },
      "source": [
        "## Making predictions with logistic regression\n",
        "\n",
        "Now that a model is trained, we can make predictions on the **validation data**. In this first section, we will restrict the examples we are looking at to 3 examples in the validation dataset. We refer to this set of 3 examples as the **sample_data**."
      ]
    },
    {
      "cell_type": "code",
      "execution_count": 15,
      "metadata": {
        "colab": {
          "base_uri": "https://localhost:8080/",
          "height": 143
        },
        "id": "Tgn0kuWEDL2w",
        "outputId": "a4368a16-4887-40d6-92e1-6c5b32f22109"
      },
      "outputs": [
        {
          "output_type": "execute_result",
          "data": {
            "text/plain": [
              "      sentiment                                       review_clean  \\\n",
              "814          -1  If you want a real ginger chew buy Gin Gins  T...   \n",
              "829          -1  This water is disgusting and tastes like anoth...   \n",
              "1053          1  For the hatersseriously  Protein bars never ta...   \n",
              "\n",
              "                             summary  \n",
              "814         These taste like nothing  \n",
              "829   GROSS! TASTES LIKE STALE BREAD  \n",
              "1053   Pretty good for a protein bar  "
            ],
            "text/html": [
              "\n",
              "  <div id=\"df-6ce0a437-b08c-4016-86d3-283bb8de11ea\">\n",
              "    <div class=\"colab-df-container\">\n",
              "      <div>\n",
              "<style scoped>\n",
              "    .dataframe tbody tr th:only-of-type {\n",
              "        vertical-align: middle;\n",
              "    }\n",
              "\n",
              "    .dataframe tbody tr th {\n",
              "        vertical-align: top;\n",
              "    }\n",
              "\n",
              "    .dataframe thead th {\n",
              "        text-align: right;\n",
              "    }\n",
              "</style>\n",
              "<table border=\"1\" class=\"dataframe\">\n",
              "  <thead>\n",
              "    <tr style=\"text-align: right;\">\n",
              "      <th></th>\n",
              "      <th>sentiment</th>\n",
              "      <th>review_clean</th>\n",
              "      <th>summary</th>\n",
              "    </tr>\n",
              "  </thead>\n",
              "  <tbody>\n",
              "    <tr>\n",
              "      <th>814</th>\n",
              "      <td>-1</td>\n",
              "      <td>If you want a real ginger chew buy Gin Gins  T...</td>\n",
              "      <td>These taste like nothing</td>\n",
              "    </tr>\n",
              "    <tr>\n",
              "      <th>829</th>\n",
              "      <td>-1</td>\n",
              "      <td>This water is disgusting and tastes like anoth...</td>\n",
              "      <td>GROSS! TASTES LIKE STALE BREAD</td>\n",
              "    </tr>\n",
              "    <tr>\n",
              "      <th>1053</th>\n",
              "      <td>1</td>\n",
              "      <td>For the hatersseriously  Protein bars never ta...</td>\n",
              "      <td>Pretty good for a protein bar</td>\n",
              "    </tr>\n",
              "  </tbody>\n",
              "</table>\n",
              "</div>\n",
              "      <button class=\"colab-df-convert\" onclick=\"convertToInteractive('df-6ce0a437-b08c-4016-86d3-283bb8de11ea')\"\n",
              "              title=\"Convert this dataframe to an interactive table.\"\n",
              "              style=\"display:none;\">\n",
              "        \n",
              "  <svg xmlns=\"http://www.w3.org/2000/svg\" height=\"24px\"viewBox=\"0 0 24 24\"\n",
              "       width=\"24px\">\n",
              "    <path d=\"M0 0h24v24H0V0z\" fill=\"none\"/>\n",
              "    <path d=\"M18.56 5.44l.94 2.06.94-2.06 2.06-.94-2.06-.94-.94-2.06-.94 2.06-2.06.94zm-11 1L8.5 8.5l.94-2.06 2.06-.94-2.06-.94L8.5 2.5l-.94 2.06-2.06.94zm10 10l.94 2.06.94-2.06 2.06-.94-2.06-.94-.94-2.06-.94 2.06-2.06.94z\"/><path d=\"M17.41 7.96l-1.37-1.37c-.4-.4-.92-.59-1.43-.59-.52 0-1.04.2-1.43.59L10.3 9.45l-7.72 7.72c-.78.78-.78 2.05 0 2.83L4 21.41c.39.39.9.59 1.41.59.51 0 1.02-.2 1.41-.59l7.78-7.78 2.81-2.81c.8-.78.8-2.07 0-2.86zM5.41 20L4 18.59l7.72-7.72 1.47 1.35L5.41 20z\"/>\n",
              "  </svg>\n",
              "      </button>\n",
              "      \n",
              "  <style>\n",
              "    .colab-df-container {\n",
              "      display:flex;\n",
              "      flex-wrap:wrap;\n",
              "      gap: 12px;\n",
              "    }\n",
              "\n",
              "    .colab-df-convert {\n",
              "      background-color: #E8F0FE;\n",
              "      border: none;\n",
              "      border-radius: 50%;\n",
              "      cursor: pointer;\n",
              "      display: none;\n",
              "      fill: #1967D2;\n",
              "      height: 32px;\n",
              "      padding: 0 0 0 0;\n",
              "      width: 32px;\n",
              "    }\n",
              "\n",
              "    .colab-df-convert:hover {\n",
              "      background-color: #E2EBFA;\n",
              "      box-shadow: 0px 1px 2px rgba(60, 64, 67, 0.3), 0px 1px 3px 1px rgba(60, 64, 67, 0.15);\n",
              "      fill: #174EA6;\n",
              "    }\n",
              "\n",
              "    [theme=dark] .colab-df-convert {\n",
              "      background-color: #3B4455;\n",
              "      fill: #D2E3FC;\n",
              "    }\n",
              "\n",
              "    [theme=dark] .colab-df-convert:hover {\n",
              "      background-color: #434B5C;\n",
              "      box-shadow: 0px 1px 3px 1px rgba(0, 0, 0, 0.15);\n",
              "      filter: drop-shadow(0px 1px 2px rgba(0, 0, 0, 0.3));\n",
              "      fill: #FFFFFF;\n",
              "    }\n",
              "  </style>\n",
              "\n",
              "      <script>\n",
              "        const buttonEl =\n",
              "          document.querySelector('#df-6ce0a437-b08c-4016-86d3-283bb8de11ea button.colab-df-convert');\n",
              "        buttonEl.style.display =\n",
              "          google.colab.kernel.accessAllowed ? 'block' : 'none';\n",
              "\n",
              "        async function convertToInteractive(key) {\n",
              "          const element = document.querySelector('#df-6ce0a437-b08c-4016-86d3-283bb8de11ea');\n",
              "          const dataTable =\n",
              "            await google.colab.kernel.invokeFunction('convertToInteractive',\n",
              "                                                     [key], {});\n",
              "          if (!dataTable) return;\n",
              "\n",
              "          const docLinkHtml = 'Like what you see? Visit the ' +\n",
              "            '<a target=\"_blank\" href=https://colab.research.google.com/notebooks/data_table.ipynb>data table notebook</a>'\n",
              "            + ' to learn more about interactive tables.';\n",
              "          element.innerHTML = '';\n",
              "          dataTable['output_type'] = 'display_data';\n",
              "          await google.colab.output.renderOutput(dataTable, element);\n",
              "          const docLink = document.createElement('div');\n",
              "          docLink.innerHTML = docLinkHtml;\n",
              "          element.appendChild(docLink);\n",
              "        }\n",
              "      </script>\n",
              "    </div>\n",
              "  </div>\n",
              "  "
            ]
          },
          "metadata": {},
          "execution_count": 15
        }
      ],
      "source": [
        "sample_data = validation_data[8:11]\n",
        "sample_data[['sentiment', 'review_clean', 'summary']]"
      ]
    },
    {
      "cell_type": "markdown",
      "metadata": {
        "id": "5yFgSvJfDL2w"
      },
      "source": [
        "### Predicting sentiment\n",
        "Let's start by predicting the sentiment of the 3 examples in the `sample_data`. The `predict_proba` method on the `LogisticRegression` class outputs a probability for each class possible.\n",
        "\n",
        "The output has one row for each example. Each row is an array of 2 numbers, the first is the predictor's prediction for the probability it is a negative sentiment example, and the second is the probability of it being a positive sentiment example."
      ]
    },
    {
      "cell_type": "code",
      "execution_count": 16,
      "metadata": {
        "colab": {
          "base_uri": "https://localhost:8080/"
        },
        "id": "M8nL2EBpDL2x",
        "outputId": "2d12d7ab-0a18-438c-ca56-577bcfa80766"
      },
      "outputs": [
        {
          "output_type": "stream",
          "name": "stdout",
          "text": [
            "  Prob Negative, Prob Positive\n",
            "[[1.00000000e+00 2.44027092e-11]\n",
            " [9.14779239e-01 8.52207609e-02]\n",
            " [1.00000000e+00 5.22523623e-13]]\n"
          ]
        }
      ],
      "source": [
        "print('  Prob Negative, Prob Positive')\n",
        "print(sentiment_model.predict_proba(sample_data[features]))"
      ]
    },
    {
      "cell_type": "markdown",
      "metadata": {
        "id": "KyB3j8yVDL2x"
      },
      "source": [
        "We are also able to make predictions using the `predict` function"
      ]
    },
    {
      "cell_type": "code",
      "execution_count": 17,
      "metadata": {
        "colab": {
          "base_uri": "https://localhost:8080/"
        },
        "id": "S6BNGxXMDL2x",
        "outputId": "37dc96c5-2fdc-4dc8-cbf1-c9db69dcde1e"
      },
      "outputs": [
        {
          "output_type": "stream",
          "name": "stdout",
          "text": [
            "Predicted labels\n",
            "[-1 -1 -1]\n"
          ]
        }
      ],
      "source": [
        "print('Predicted labels')\n",
        "print(sentiment_model.predict(sample_data[features]))"
      ]
    },
    {
      "cell_type": "markdown",
      "metadata": {
        "id": "aXqE2ilLDL2x"
      },
      "source": [
        "### **Question 3:** Find the most positive (and negative) review"
      ]
    },
    {
      "cell_type": "markdown",
      "metadata": {
        "id": "ZIqwyAbbDL2y"
      },
      "source": [
        "We now turn to examining the full **validation_data** dataset <span style=\"color:red\">(not sample_data)</span>, , and use `sklearn` to form predictions on all of the data points for faster performance.\n",
        "\n",
        "Using the `sentiment_model`, find review in the **validation_data** with the **highest probability** of being classified as a **positive review**. Also, find the reivew with the **highest probability** of being classified as a **negative review**. We refer to these as the \"most positive review\" and \"most negative review\" respectively. Store the `review_clean` column value for each of these rows in `most_positive_review` and `most_negative_review` respectively.\n",
        "\n",
        "If there is a tie for the most positive/negative reivew, you should always grab the one that appears *first* in the validation data.\n",
        "\n",
        "*Hint*: Once you know the index of the most positive/negative reviews, use the `.iloc[]` accessor on the DataFrame to get that row and find its `review_clean` value."
      ]
    },
    {
      "cell_type": "code",
      "execution_count": 18,
      "metadata": {
        "id": "m0RF_RxHDL2y"
      },
      "outputs": [],
      "source": [
        "### edTest(test_q3_most_positive_negative_review) ###\n",
        "\n",
        "# TODO Find the review_clean values for the most positive and most negative review\n",
        "val_pred = sentiment_model.predict_proba(validation_data[features])\n",
        "val_negatives = np.array([x[0] for x in val_pred])\n",
        "val_positives = np.array([x[1] for x in val_pred])\n",
        "max_negative = np.max(val_negatives)\n",
        "max_positive = np.max(val_positives)\n",
        "val_max_negative_i = np.where(val_negatives == max_negative)[0][0]\n",
        "val_max_positive_i = np.where(val_positives == max_positive)[0][0]\n",
        "\n",
        "most_negative_review = validation_data.iloc[val_max_negative_i]['review_clean']\n",
        "most_positive_review = validation_data.iloc[val_max_positive_i]['review_clean']"
      ]
    },
    {
      "cell_type": "code",
      "execution_count": 19,
      "metadata": {
        "colab": {
          "base_uri": "https://localhost:8080/"
        },
        "id": "u-qlkLWYDL2y",
        "outputId": "dcb123aa-cafb-4140-e2fe-0e376e8409fc"
      },
      "outputs": [
        {
          "output_type": "stream",
          "name": "stdout",
          "text": [
            "Most Positive Review:\n",
            "My Favorite KnorrLipton Flavor of all the Sides This flavor with the cheddar and broccoli is so so so good And love the fact that it tastes so cheesy and also has broccoli in it This makes a quick meal for one or two For me I eat it as a regular meal and eat the whole package by myself as it is that goodHighly recommend this product\n",
            "\n",
            "Most Negative Review:\n",
            "This review is for the Chocolate Fudge flavor of the Think Thin Bars  In a word yuck  This bar may be all kinds of nutritious but you have to want to eat it for that to take any effectThe taste and texture was kind of like eating cocoa powder dusted Styrofoam  It was kind of chewy and soft all at the same time and the only flavor aside from a dry flat taste was the cocoa powder  And it was more like a milk chocolate for the cocoa powder as it had that kind of sour aftertaste  Needless to say I didnt enjoy itThe ingredients are decent  The following is the ingredients list copied from Think Thins websitePROTEIN BLEND WHEY PROTEIN ISOLATE SOY PROTEIN ISOLATE CALCIUM CASEINATE CASEIN GLYCERIN MALTITOL COATING MALTITOL COCOA BUTTER CHOCOLATE SODIUM CASEINATE MILK FAT SOY LECITHIN NATURAL FLAVORS SALT ALMONDS WATER CANOLA OIL CHOCOLATE ALKALIZED COCOA SOY LECITHIN NATURAL FLAVORS SEA SALTYou would think since it was real chocolate and cocoa butter that it would have been a bit better tasting but all I can think is that perhaps they used low grade chocolate  And I was really surprised to see almonds listed in there I didnt taste them at all  And using Maltitol for the sweetener I would have preferred stevia or even just a tiny bit of cane sugar yes I realize part of this products boast is having 0 grams of sugar but a tiny bit wouldnt hurt  Still for a protein bar this isnt a bad list in comparison to other brandsThis product is certified to be gluten free and it is sugar free unlike many bars out there  So it is unique in that aspect and good for those on special diets  Theres 240 calories per bar but this is meant to be a meal replacement or training snack not a regular snack  8 grams of fat and 1 gram of fiber are in it along with 20 grams of protein which is a lot  And while there is no sugar sugar alcohol is present as 12 grams of this barI wouldnt buy these again  At least not in this flavor  Perhaps some of the others are a little better tasting  But I couldnt even finish this bar I thought it tasted so bad and Im not normally one to waste food  But perhaps with different taste buds someone could enjoy this enough to reap its nutritional benefitsReview by M Reynard 2013\n"
          ]
        }
      ],
      "source": [
        "print('Most Positive Review:')\n",
        "print(most_positive_review)\n",
        "print()\n",
        "print('Most Negative Review:')\n",
        "print(most_negative_review)"
      ]
    },
    {
      "cell_type": "markdown",
      "metadata": {
        "id": "D9tZ0h0ZDL2y"
      },
      "source": [
        "Do you notice something special about those reviews? They are both pretty long! Here we just count number of words regardless of the length of the review but clearly that can affect the results, and in practice one can use some techniques to normalize the counts to avoid prioritizing long reviews over shorter ones (we will discuss this idea in a future week).\n",
        "\n",
        "### **Question 4:** Compute validation accuracy\n",
        "Compute the validation accuracy for the model we just trained. Report the validationaccuracy as a number between 0 and 1 stored in a variable called `sentiment_model_validation_accuracy`.\n",
        "\n",
        "Below, calculate the accuracy of the predictor using sklearn's accuracy score function."
      ]
    },
    {
      "cell_type": "code",
      "execution_count": 20,
      "metadata": {
        "id": "NvOJ20jbDL2y"
      },
      "outputs": [],
      "source": [
        "### edTest(test_q4_sentiment_model_accuracy) ###\n",
        "from sklearn.metrics import accuracy_score\n",
        "# TODO Find the validation accuracy of the sentiment model\n",
        "val_pred = sentiment_model.predict(validation_data[features])\n",
        "sentiment_model_validation_accuracy = accuracy_score(validation_data['sentiment'], val_pred)\n",
        "# print(sentiment_model_validation_accuracy)"
      ]
    },
    {
      "cell_type": "markdown",
      "metadata": {
        "id": "40UhzuBLDL2z"
      },
      "source": [
        "# Create a confusion matrix\n",
        "\n",
        "A common tool used when analyzing the peformance of a predictor in a classification problem is to look at the confusion matrix, as well as the overall accuracy.\n",
        "\n",
        "We've created a function that will plot a confusion matrix for you given a set of inputs which are the values that should appear within each cell.\n",
        "Recall that there are four values associated with a confusion matrix: true positive, true negative, false positive, and false negative which we will abberviate as TP, TN, FP, and FN, respecitvely. In other words, for the next problem we have handled the plotting code for you that you can use, but you will need to compute the values for each of the confusion matrix dimensions."
      ]
    },
    {
      "cell_type": "code",
      "execution_count": 21,
      "metadata": {
        "id": "0Hu-5usIDL2z"
      },
      "outputs": [],
      "source": [
        "def plot_confusion_matrix(tp, fp, fn, tn):\n",
        "    \"\"\"\n",
        "    Plots a confusion matrix using the values \n",
        "       tp - True Positive\n",
        "       fp - False Positive\n",
        "       fn - False Negative\n",
        "       tn - True Negative\n",
        "    \"\"\"\n",
        "    data = np.matrix([[tp, fp], [fn, tn]])\n",
        "\n",
        "    sns.heatmap(data,annot=True,xticklabels=['Actual Pos', 'Actual Neg']\n",
        "              ,yticklabels=['Pred. Pos', 'Pred. Neg']) "
      ]
    },
    {
      "cell_type": "markdown",
      "metadata": {
        "id": "T5CCLXpFDL2z"
      },
      "source": [
        "### **Question 5:** Compute confusion matrix values and plot\n",
        "\n",
        "Write code below that uses the `plot_confusion_matrix` function to show the number of true positive, true negative, false positive, and false negative predictions made by your classifier. You should store the counts for each of these values in the variables:\n",
        "* `tp`\n",
        "* `fp`\n",
        "* `fn`\n",
        "* `tn` \n",
        "\n",
        "You might find it useful to use named parameters here (i.e. you can call `plot_confusion_matrix(tp=X, fp=Y, fn=A, tn=B)` instead of having to get the order of the parameters correct)"
      ]
    },
    {
      "cell_type": "code",
      "execution_count": 22,
      "metadata": {
        "id": "WEMyHMkhDL2z"
      },
      "outputs": [],
      "source": [
        "### edTest(test_q5_confusion_matrix) ###\n",
        "\n",
        "# TODO Compute the four values tp, fp, fn, tn and plot them using plot_confusion_matrix\n",
        "validation_data['predicted'] = val_pred\n",
        "tp = validation_data[(validation_data['sentiment'] == 1) & (validation_data['predicted'] == 1)].size\n",
        "fp = validation_data[(validation_data['sentiment'] == -1) & (validation_data['predicted'] == 1)].size\n",
        "tn = validation_data[(validation_data['sentiment'] == -1) & (validation_data['predicted'] == -1)].size\n",
        "fn = validation_data[(validation_data['sentiment'] == 1) & (validation_data['predicted'] == -1)].size"
      ]
    },
    {
      "cell_type": "code",
      "execution_count": 23,
      "metadata": {
        "colab": {
          "base_uri": "https://localhost:8080/",
          "height": 268
        },
        "id": "Y2iJmxR_DL2z",
        "outputId": "9f683f56-546a-4032-8035-98e1123f5092"
      },
      "outputs": [
        {
          "output_type": "display_data",
          "data": {
            "text/plain": [
              "<Figure size 432x288 with 2 Axes>"
            ],
            "image/png": "[encoded data removed]"
          },
          "metadata": {
            "needs_background": "light"
          }
        }
      ],
      "source": [
        "plot_confusion_matrix(tp=tp, fp=fp, tn=tn, fn=fn)"
      ]
    },
    {
      "cell_type": "markdown",
      "metadata": {
        "id": "vdWWfFEzDL20"
      },
      "source": [
        "## **Question 6 and 7**: Logistic Regression with L2 regularization\n",
        "\n",
        "One of the challenges of creating features from each word is that there are many more features than observations. It is easy to overfit. We will explore the effect of the regularization in this problem.\n",
        "\n",
        "Now that we have written up all the pieces needed for regularized logistic regression, let's explore the benefits of using **L2 regularization** in analyzing sentiment for product reviews. \n",
        "\n",
        "Like in the last assignment, we will train models with various levels of regularization starting with a small amount and then moving to a  large amount. The code here will have some similarities to the code you did in the last assignment, so you will find that to be a useful reference, but this problem will be slightly more complex since we ask you to compute a few values.\n",
        "\n",
        "This code will be counted as two separate questions since you will be computing slightly different values, but we will ask you to compute both of them in the same starter code to reduce code duplication (since the tasks are very similar). \n",
        "\n",
        "We first outline what you should compute for each question and then show some general implementation notes for both problems below. Your task for this problem is to fill out the code inside the loop to compute the values described below.\n",
        "\n",
        "We recommend focusing on the value you need to compute for Q7 and then once you have that working work on the code you need to compute Q8.\n",
        "\n",
        "### **Question 6:** Coefficient Paths`\n",
        "For this question we will ask you to compute the coefficent path for each of the features in the model for various values of the regularization constant.\n",
        "\n",
        "For each regularization strength, train a model using that regularization constant and compute table storing the coefficients of each learned predictor. Store the results in a `DataFrame` named `coef_table`.\n",
        "\n",
        "You should end up with an `DataFrame` with column names as `'coefficients \\[L2=1e-02\\]', ... 'coefficients \\[L2=1e+05\\]'`, and a row for each word in `features`. \n",
        "\n",
        "Before the loop, we set up `coef_table` to have the right rows and columns, but your code will need to fill out the rest.\n",
        "\n",
        "### **Question 7:** Train and Validation Accuracies\n",
        "Similar to Q6, we want you to compute the training and validation accuracy for each learned predictor and store that in a `DataFrame` called `accuracies_table`. \n",
        "\n",
        "You should end up with a `DataFrame` with column names `'l2_penalty', 'train_accuracy', 'validation_accuracy'` and a row for each L2 penalty tried. The L2 penaly should be the number (not the column name from Q7) and the accuracy values should be numbers between 0 and 1 for the appropriate accuracy.\n",
        "\n",
        "For this problem, we recommend the approach used in HW2 to build up a list of dictionaries, and then convert that to a `DataFrame` with the values described.\n",
        "\n",
        "### Implementation Details\n",
        "\n",
        "Some important notes about your implementation:\n",
        "* When constructing a `LogisticRegression` object, avoid having an intercept term in this example, so pass `fit_intercept=False` when constructing the `LogisticRegression` model.\n",
        "* <span style=\"color:red\">When constructing the LogisticRegression(...) model, the parameter `C` is the **inverse** of the L2 penalty (1 / L2_penalty). </span>\n",
        "* Q7: To store the results of your predictor's coefficients, you will need to get the values from the `.coef_` property. Since the code for this is a little complex, we give you this line below (assumes your trained model is stored in a variable called `model`):\n",
        "  ```\n",
        "  coef_table[column_name] = model.coef_[0]\n",
        "  ```\n",
        "\n",
        "  Confusingly this grabs all the coefficients and treats them like a list of numbers rather than the 2D array of rows/columns that scikit-learn originally provides.\n",
        "\n",
        "* It is okay if your code prints `ConvergenceWarnings`. This is something you would want to avoid in practice but is okay in our assignment for simplicity.\n",
        "\n",
        "* We recommend just focusing on Q6 at first and getting the code to set up the coefficients table right. Then once that's working, evaluate the models for Q7.\n"
      ]
    },
    {
      "cell_type": "code",
      "execution_count": 24,
      "metadata": {
        "colab": {
          "base_uri": "https://localhost:8080/"
        },
        "id": "VfD6w6WXDL20",
        "outputId": "04225252-f1bd-470f-a405-6eaa5001b011"
      },
      "outputs": [
        {
          "output_type": "stream",
          "name": "stderr",
          "text": [
            "/usr/local/lib/python3.8/dist-packages/sklearn/linear_model/_logistic.py:814: ConvergenceWarning: lbfgs failed to converge (status=1):\n",
            "STOP: TOTAL NO. of ITERATIONS REACHED LIMIT.\n",
            "\n",
            "Increase the number of iterations (max_iter) or scale the data as shown in:\n",
            "    https://scikit-learn.org/stable/modules/preprocessing.html\n",
            "Please also refer to the documentation for alternative solver options:\n",
            "    https://scikit-learn.org/stable/modules/linear_model.html#logistic-regression\n",
            "  n_iter_i = _check_optimize_result(\n"
          ]
        }
      ],
      "source": [
        "### edTest(test_q6_q7_train_models) ###\n",
        "\n",
        "# TODO Fill in the loop below\n",
        "\n",
        "# Set up the regularization penalities to try\n",
        "l2_penalties = [0.01, 1, 4, 10, 1e2, 1e3, 1e5]\n",
        "l2_penalty_names = [f'coefficients [L2={l2_penalty:.0e}]' \n",
        "                    for l2_penalty in l2_penalties]\n",
        "\n",
        "# Q6: Add the coefficients to this coef_table for each model\n",
        "coef_table = pd.DataFrame(columns=['word'] + l2_penalty_names)\n",
        "coef_table['word'] = features\n",
        "\n",
        "# Q7: Set up an empty list to store the accuracies (will convert to DataFrame after loop)\n",
        "accuracy_data = []\n",
        "\n",
        "for l2_penalty, l2_penalty_column_name in zip(l2_penalties, l2_penalty_names):\n",
        "    # TODO(Q6 and Q7): Train the model \n",
        "    model = LogisticRegression(C=(1/l2_penalty))\n",
        "    model.fit(train_data[features], train_data['sentiment'])\n",
        "    \n",
        "    # TODO(Q6): Save the coefficients in coef_table\n",
        "    coef_table[l2_penalty_column_name] = model.coef_[0]\n",
        "    \n",
        "    # TODO(Q7): Calculate and save the train and validation accuracies\n",
        "    train_pred = model.predict(train_data[features])\n",
        "    train_acc = accuracy_score(train_data['sentiment'], train_pred)\n",
        "    val_pred = model.predict(validation_data[features])\n",
        "    val_acc = accuracy_score(validation_data['sentiment'], val_pred)\n",
        "    accuracy_data.append({\n",
        "        'l2_penalty': l2_penalty,\n",
        "        'train_accuracy': train_acc,\n",
        "        'validation_accuracy': val_acc\n",
        "    })\n",
        "\n",
        "accuracies_table = pd.DataFrame(accuracy_data)"
      ]
    },
    {
      "cell_type": "code",
      "execution_count": 25,
      "metadata": {
        "colab": {
          "base_uri": "https://localhost:8080/",
          "height": 485
        },
        "id": "qs6A1IKSDL20",
        "outputId": "6a51c49e-6b2b-4b4a-fc4e-de4d003ec4a3"
      },
      "outputs": [
        {
          "output_type": "execute_result",
          "data": {
            "text/plain": [
              "           word  coefficients [L2=1e-02]  coefficients [L2=1e+00]  \\\n",
              "0          0000                 0.053218                 0.022410   \n",
              "1           002                 0.000000                 0.000000   \n",
              "2           004                 0.000000                 0.000000   \n",
              "3         004oz                 0.000000                 0.000000   \n",
              "4     012months                 0.000000                 0.000000   \n",
              "...         ...                      ...                      ...   \n",
              "7620      zicos                -0.193506                -0.078904   \n",
              "7621    zillion                -0.103889                -0.049935   \n",
              "7622     zinger                -0.087445                -0.027026   \n",
              "7623        zip                 0.189326                 0.091640   \n",
              "7624    ziplock                -0.492865                -0.153038   \n",
              "\n",
              "      coefficients [L2=4e+00]  coefficients [L2=1e+01]  \\\n",
              "0                    0.014442                 0.009909   \n",
              "1                    0.000000                 0.000000   \n",
              "2                    0.000000                 0.000000   \n",
              "3                    0.000000                 0.000000   \n",
              "4                    0.000000                 0.000000   \n",
              "...                       ...                      ...   \n",
              "7620                -0.044725                -0.026304   \n",
              "7621                -0.032991                -0.021975   \n",
              "7622                -0.012431                -0.006030   \n",
              "7623                 0.059909                 0.040648   \n",
              "7624                -0.066312                -0.030432   \n",
              "\n",
              "      coefficients [L2=1e+02]  coefficients [L2=1e+03]  \\\n",
              "0                    0.002686                 0.000431   \n",
              "1                    0.000000                 0.000000   \n",
              "2                    0.000000                 0.000000   \n",
              "3                    0.000000                 0.000000   \n",
              "4                    0.000000                 0.000000   \n",
              "...                       ...                      ...   \n",
              "7620                -0.004382                -0.000486   \n",
              "7621                -0.004372                -0.000514   \n",
              "7622                -0.000313                 0.000297   \n",
              "7623                 0.009602                 0.001419   \n",
              "7624                -0.002450                -0.000306   \n",
              "\n",
              "      coefficients [L2=1e+05]  \n",
              "0                    0.000005  \n",
              "1                    0.000000  \n",
              "2                    0.000000  \n",
              "3                    0.000000  \n",
              "4                    0.000000  \n",
              "...                       ...  \n",
              "7620                -0.000005  \n",
              "7621                -0.000005  \n",
              "7622                 0.000005  \n",
              "7623                 0.000015  \n",
              "7624                -0.000005  \n",
              "\n",
              "[7625 rows x 8 columns]"
            ],
            "text/html": [
              "\n",
              "  <div id=\"df-d2e86b88-e3a7-4847-9a13-7e0883246245\">\n",
              "    <div class=\"colab-df-container\">\n",
              "      <div>\n",
              "<style scoped>\n",
              "    .dataframe tbody tr th:only-of-type {\n",
              "        vertical-align: middle;\n",
              "    }\n",
              "\n",
              "    .dataframe tbody tr th {\n",
              "        vertical-align: top;\n",
              "    }\n",
              "\n",
              "    .dataframe thead th {\n",
              "        text-align: right;\n",
              "    }\n",
              "</style>\n",
              "<table border=\"1\" class=\"dataframe\">\n",
              "  <thead>\n",
              "    <tr style=\"text-align: right;\">\n",
              "      <th></th>\n",
              "      <th>word</th>\n",
              "      <th>coefficients [L2=1e-02]</th>\n",
              "      <th>coefficients [L2=1e+00]</th>\n",
              "      <th>coefficients [L2=4e+00]</th>\n",
              "      <th>coefficients [L2=1e+01]</th>\n",
              "      <th>coefficients [L2=1e+02]</th>\n",
              "      <th>coefficients [L2=1e+03]</th>\n",
              "      <th>coefficients [L2=1e+05]</th>\n",
              "    </tr>\n",
              "  </thead>\n",
              "  <tbody>\n",
              "    <tr>\n",
              "      <th>0</th>\n",
              "      <td>0000</td>\n",
              "      <td>0.053218</td>\n",
              "      <td>0.022410</td>\n",
              "      <td>0.014442</td>\n",
              "      <td>0.009909</td>\n",
              "      <td>0.002686</td>\n",
              "      <td>0.000431</td>\n",
              "      <td>0.000005</td>\n",
              "    </tr>\n",
              "    <tr>\n",
              "      <th>1</th>\n",
              "      <td>002</td>\n",
              "      <td>0.000000</td>\n",
              "      <td>0.000000</td>\n",
              "      <td>0.000000</td>\n",
              "      <td>0.000000</td>\n",
              "      <td>0.000000</td>\n",
              "      <td>0.000000</td>\n",
              "      <td>0.000000</td>\n",
              "    </tr>\n",
              "    <tr>\n",
              "      <th>2</th>\n",
              "      <td>004</td>\n",
              "      <td>0.000000</td>\n",
              "      <td>0.000000</td>\n",
              "      <td>0.000000</td>\n",
              "      <td>0.000000</td>\n",
              "      <td>0.000000</td>\n",
              "      <td>0.000000</td>\n",
              "      <td>0.000000</td>\n",
              "    </tr>\n",
              "    <tr>\n",
              "      <th>3</th>\n",
              "      <td>004oz</td>\n",
              "      <td>0.000000</td>\n",
              "      <td>0.000000</td>\n",
              "      <td>0.000000</td>\n",
              "      <td>0.000000</td>\n",
              "      <td>0.000000</td>\n",
              "      <td>0.000000</td>\n",
              "      <td>0.000000</td>\n",
              "    </tr>\n",
              "    <tr>\n",
              "      <th>4</th>\n",
              "      <td>012months</td>\n",
              "      <td>0.000000</td>\n",
              "      <td>0.000000</td>\n",
              "      <td>0.000000</td>\n",
              "      <td>0.000000</td>\n",
              "      <td>0.000000</td>\n",
              "      <td>0.000000</td>\n",
              "      <td>0.000000</td>\n",
              "    </tr>\n",
              "    <tr>\n",
              "      <th>...</th>\n",
              "      <td>...</td>\n",
              "      <td>...</td>\n",
              "      <td>...</td>\n",
              "      <td>...</td>\n",
              "      <td>...</td>\n",
              "      <td>...</td>\n",
              "      <td>...</td>\n",
              "      <td>...</td>\n",
              "    </tr>\n",
              "    <tr>\n",
              "      <th>7620</th>\n",
              "      <td>zicos</td>\n",
              "      <td>-0.193506</td>\n",
              "      <td>-0.078904</td>\n",
              "      <td>-0.044725</td>\n",
              "      <td>-0.026304</td>\n",
              "      <td>-0.004382</td>\n",
              "      <td>-0.000486</td>\n",
              "      <td>-0.000005</td>\n",
              "    </tr>\n",
              "    <tr>\n",
              "      <th>7621</th>\n",
              "      <td>zillion</td>\n",
              "      <td>-0.103889</td>\n",
              "      <td>-0.049935</td>\n",
              "      <td>-0.032991</td>\n",
              "      <td>-0.021975</td>\n",
              "      <td>-0.004372</td>\n",
              "      <td>-0.000514</td>\n",
              "      <td>-0.000005</td>\n",
              "    </tr>\n",
              "    <tr>\n",
              "      <th>7622</th>\n",
              "      <td>zinger</td>\n",
              "      <td>-0.087445</td>\n",
              "      <td>-0.027026</td>\n",
              "      <td>-0.012431</td>\n",
              "      <td>-0.006030</td>\n",
              "      <td>-0.000313</td>\n",
              "      <td>0.000297</td>\n",
              "      <td>0.000005</td>\n",
              "    </tr>\n",
              "    <tr>\n",
              "      <th>7623</th>\n",
              "      <td>zip</td>\n",
              "      <td>0.189326</td>\n",
              "      <td>0.091640</td>\n",
              "      <td>0.059909</td>\n",
              "      <td>0.040648</td>\n",
              "      <td>0.009602</td>\n",
              "      <td>0.001419</td>\n",
              "      <td>0.000015</td>\n",
              "    </tr>\n",
              "    <tr>\n",
              "      <th>7624</th>\n",
              "      <td>ziplock</td>\n",
              "      <td>-0.492865</td>\n",
              "      <td>-0.153038</td>\n",
              "      <td>-0.066312</td>\n",
              "      <td>-0.030432</td>\n",
              "      <td>-0.002450</td>\n",
              "      <td>-0.000306</td>\n",
              "      <td>-0.000005</td>\n",
              "    </tr>\n",
              "  </tbody>\n",
              "</table>\n",
              "<p>7625 rows × 8 columns</p>\n",
              "</div>\n",
              "      <button class=\"colab-df-convert\" onclick=\"convertToInteractive('df-d2e86b88-e3a7-4847-9a13-7e0883246245')\"\n",
              "              title=\"Convert this dataframe to an interactive table.\"\n",
              "              style=\"display:none;\">\n",
              "        \n",
              "  <svg xmlns=\"http://www.w3.org/2000/svg\" height=\"24px\"viewBox=\"0 0 24 24\"\n",
              "       width=\"24px\">\n",
              "    <path d=\"M0 0h24v24H0V0z\" fill=\"none\"/>\n",
              "    <path d=\"M18.56 5.44l.94 2.06.94-2.06 2.06-.94-2.06-.94-.94-2.06-.94 2.06-2.06.94zm-11 1L8.5 8.5l.94-2.06 2.06-.94-2.06-.94L8.5 2.5l-.94 2.06-2.06.94zm10 10l.94 2.06.94-2.06 2.06-.94-2.06-.94-.94-2.06-.94 2.06-2.06.94z\"/><path d=\"M17.41 7.96l-1.37-1.37c-.4-.4-.92-.59-1.43-.59-.52 0-1.04.2-1.43.59L10.3 9.45l-7.72 7.72c-.78.78-.78 2.05 0 2.83L4 21.41c.39.39.9.59 1.41.59.51 0 1.02-.2 1.41-.59l7.78-7.78 2.81-2.81c.8-.78.8-2.07 0-2.86zM5.41 20L4 18.59l7.72-7.72 1.47 1.35L5.41 20z\"/>\n",
              "  </svg>\n",
              "      </button>\n",
              "      \n",
              "  <style>\n",
              "    .colab-df-container {\n",
              "      display:flex;\n",
              "      flex-wrap:wrap;\n",
              "      gap: 12px;\n",
              "    }\n",
              "\n",
              "    .colab-df-convert {\n",
              "      background-color: #E8F0FE;\n",
              "      border: none;\n",
              "      border-radius: 50%;\n",
              "      cursor: pointer;\n",
              "      display: none;\n",
              "      fill: #1967D2;\n",
              "      height: 32px;\n",
              "      padding: 0 0 0 0;\n",
              "      width: 32px;\n",
              "    }\n",
              "\n",
              "    .colab-df-convert:hover {\n",
              "      background-color: #E2EBFA;\n",
              "      box-shadow: 0px 1px 2px rgba(60, 64, 67, 0.3), 0px 1px 3px 1px rgba(60, 64, 67, 0.15);\n",
              "      fill: #174EA6;\n",
              "    }\n",
              "\n",
              "    [theme=dark] .colab-df-convert {\n",
              "      background-color: #3B4455;\n",
              "      fill: #D2E3FC;\n",
              "    }\n",
              "\n",
              "    [theme=dark] .colab-df-convert:hover {\n",
              "      background-color: #434B5C;\n",
              "      box-shadow: 0px 1px 3px 1px rgba(0, 0, 0, 0.15);\n",
              "      filter: drop-shadow(0px 1px 2px rgba(0, 0, 0, 0.3));\n",
              "      fill: #FFFFFF;\n",
              "    }\n",
              "  </style>\n",
              "\n",
              "      <script>\n",
              "        const buttonEl =\n",
              "          document.querySelector('#df-d2e86b88-e3a7-4847-9a13-7e0883246245 button.colab-df-convert');\n",
              "        buttonEl.style.display =\n",
              "          google.colab.kernel.accessAllowed ? 'block' : 'none';\n",
              "\n",
              "        async function convertToInteractive(key) {\n",
              "          const element = document.querySelector('#df-d2e86b88-e3a7-4847-9a13-7e0883246245');\n",
              "          const dataTable =\n",
              "            await google.colab.kernel.invokeFunction('convertToInteractive',\n",
              "                                                     [key], {});\n",
              "          if (!dataTable) return;\n",
              "\n",
              "          const docLinkHtml = 'Like what you see? Visit the ' +\n",
              "            '<a target=\"_blank\" href=https://colab.research.google.com/notebooks/data_table.ipynb>data table notebook</a>'\n",
              "            + ' to learn more about interactive tables.';\n",
              "          element.innerHTML = '';\n",
              "          dataTable['output_type'] = 'display_data';\n",
              "          await google.colab.output.renderOutput(dataTable, element);\n",
              "          const docLink = document.createElement('div');\n",
              "          docLink.innerHTML = docLinkHtml;\n",
              "          element.appendChild(docLink);\n",
              "        }\n",
              "      </script>\n",
              "    </div>\n",
              "  </div>\n",
              "  "
            ]
          },
          "metadata": {},
          "execution_count": 25
        }
      ],
      "source": [
        "# Look at coef_table\n",
        "coef_table"
      ]
    },
    {
      "cell_type": "code",
      "execution_count": 26,
      "metadata": {
        "colab": {
          "base_uri": "https://localhost:8080/",
          "height": 269
        },
        "id": "Q3uOuNPuDL21",
        "outputId": "85636e79-86b5-4df3-ecff-7261f21c14de"
      },
      "outputs": [
        {
          "output_type": "execute_result",
          "data": {
            "text/plain": [
              "   l2_penalty  train_accuracy  validation_accuracy\n",
              "0        0.01        1.000000             0.820225\n",
              "1        1.00        1.000000             0.797753\n",
              "2        4.00        0.994374             0.808989\n",
              "3       10.00        0.981716             0.764045\n",
              "4      100.00        0.869198             0.730337\n",
              "5     1000.00        0.696203             0.617978\n",
              "6   100000.00        0.517581             0.550562"
            ],
            "text/html": [
              "\n",
              "  <div id=\"df-4bcddafa-5fff-4d0d-82e8-927e1b2409f4\">\n",
              "    <div class=\"colab-df-container\">\n",
              "      <div>\n",
              "<style scoped>\n",
              "    .dataframe tbody tr th:only-of-type {\n",
              "        vertical-align: middle;\n",
              "    }\n",
              "\n",
              "    .dataframe tbody tr th {\n",
              "        vertical-align: top;\n",
              "    }\n",
              "\n",
              "    .dataframe thead th {\n",
              "        text-align: right;\n",
              "    }\n",
              "</style>\n",
              "<table border=\"1\" class=\"dataframe\">\n",
              "  <thead>\n",
              "    <tr style=\"text-align: right;\">\n",
              "      <th></th>\n",
              "      <th>l2_penalty</th>\n",
              "      <th>train_accuracy</th>\n",
              "      <th>validation_accuracy</th>\n",
              "    </tr>\n",
              "  </thead>\n",
              "  <tbody>\n",
              "    <tr>\n",
              "      <th>0</th>\n",
              "      <td>0.01</td>\n",
              "      <td>1.000000</td>\n",
              "      <td>0.820225</td>\n",
              "    </tr>\n",
              "    <tr>\n",
              "      <th>1</th>\n",
              "      <td>1.00</td>\n",
              "      <td>1.000000</td>\n",
              "      <td>0.797753</td>\n",
              "    </tr>\n",
              "    <tr>\n",
              "      <th>2</th>\n",
              "      <td>4.00</td>\n",
              "      <td>0.994374</td>\n",
              "      <td>0.808989</td>\n",
              "    </tr>\n",
              "    <tr>\n",
              "      <th>3</th>\n",
              "      <td>10.00</td>\n",
              "      <td>0.981716</td>\n",
              "      <td>0.764045</td>\n",
              "    </tr>\n",
              "    <tr>\n",
              "      <th>4</th>\n",
              "      <td>100.00</td>\n",
              "      <td>0.869198</td>\n",
              "      <td>0.730337</td>\n",
              "    </tr>\n",
              "    <tr>\n",
              "      <th>5</th>\n",
              "      <td>1000.00</td>\n",
              "      <td>0.696203</td>\n",
              "      <td>0.617978</td>\n",
              "    </tr>\n",
              "    <tr>\n",
              "      <th>6</th>\n",
              "      <td>100000.00</td>\n",
              "      <td>0.517581</td>\n",
              "      <td>0.550562</td>\n",
              "    </tr>\n",
              "  </tbody>\n",
              "</table>\n",
              "</div>\n",
              "      <button class=\"colab-df-convert\" onclick=\"convertToInteractive('df-4bcddafa-5fff-4d0d-82e8-927e1b2409f4')\"\n",
              "              title=\"Convert this dataframe to an interactive table.\"\n",
              "              style=\"display:none;\">\n",
              "        \n",
              "  <svg xmlns=\"http://www.w3.org/2000/svg\" height=\"24px\"viewBox=\"0 0 24 24\"\n",
              "       width=\"24px\">\n",
              "    <path d=\"M0 0h24v24H0V0z\" fill=\"none\"/>\n",
              "    <path d=\"M18.56 5.44l.94 2.06.94-2.06 2.06-.94-2.06-.94-.94-2.06-.94 2.06-2.06.94zm-11 1L8.5 8.5l.94-2.06 2.06-.94-2.06-.94L8.5 2.5l-.94 2.06-2.06.94zm10 10l.94 2.06.94-2.06 2.06-.94-2.06-.94-.94-2.06-.94 2.06-2.06.94z\"/><path d=\"M17.41 7.96l-1.37-1.37c-.4-.4-.92-.59-1.43-.59-.52 0-1.04.2-1.43.59L10.3 9.45l-7.72 7.72c-.78.78-.78 2.05 0 2.83L4 21.41c.39.39.9.59 1.41.59.51 0 1.02-.2 1.41-.59l7.78-7.78 2.81-2.81c.8-.78.8-2.07 0-2.86zM5.41 20L4 18.59l7.72-7.72 1.47 1.35L5.41 20z\"/>\n",
              "  </svg>\n",
              "      </button>\n",
              "      \n",
              "  <style>\n",
              "    .colab-df-container {\n",
              "      display:flex;\n",
              "      flex-wrap:wrap;\n",
              "      gap: 12px;\n",
              "    }\n",
              "\n",
              "    .colab-df-convert {\n",
              "      background-color: #E8F0FE;\n",
              "      border: none;\n",
              "      border-radius: 50%;\n",
              "      cursor: pointer;\n",
              "      display: none;\n",
              "      fill: #1967D2;\n",
              "      height: 32px;\n",
              "      padding: 0 0 0 0;\n",
              "      width: 32px;\n",
              "    }\n",
              "\n",
              "    .colab-df-convert:hover {\n",
              "      background-color: #E2EBFA;\n",
              "      box-shadow: 0px 1px 2px rgba(60, 64, 67, 0.3), 0px 1px 3px 1px rgba(60, 64, 67, 0.15);\n",
              "      fill: #174EA6;\n",
              "    }\n",
              "\n",
              "    [theme=dark] .colab-df-convert {\n",
              "      background-color: #3B4455;\n",
              "      fill: #D2E3FC;\n",
              "    }\n",
              "\n",
              "    [theme=dark] .colab-df-convert:hover {\n",
              "      background-color: #434B5C;\n",
              "      box-shadow: 0px 1px 3px 1px rgba(0, 0, 0, 0.15);\n",
              "      filter: drop-shadow(0px 1px 2px rgba(0, 0, 0, 0.3));\n",
              "      fill: #FFFFFF;\n",
              "    }\n",
              "  </style>\n",
              "\n",
              "      <script>\n",
              "        const buttonEl =\n",
              "          document.querySelector('#df-4bcddafa-5fff-4d0d-82e8-927e1b2409f4 button.colab-df-convert');\n",
              "        buttonEl.style.display =\n",
              "          google.colab.kernel.accessAllowed ? 'block' : 'none';\n",
              "\n",
              "        async function convertToInteractive(key) {\n",
              "          const element = document.querySelector('#df-4bcddafa-5fff-4d0d-82e8-927e1b2409f4');\n",
              "          const dataTable =\n",
              "            await google.colab.kernel.invokeFunction('convertToInteractive',\n",
              "                                                     [key], {});\n",
              "          if (!dataTable) return;\n",
              "\n",
              "          const docLinkHtml = 'Like what you see? Visit the ' +\n",
              "            '<a target=\"_blank\" href=https://colab.research.google.com/notebooks/data_table.ipynb>data table notebook</a>'\n",
              "            + ' to learn more about interactive tables.';\n",
              "          element.innerHTML = '';\n",
              "          dataTable['output_type'] = 'display_data';\n",
              "          await google.colab.output.renderOutput(dataTable, element);\n",
              "          const docLink = document.createElement('div');\n",
              "          docLink.innerHTML = docLinkHtml;\n",
              "          element.appendChild(docLink);\n",
              "        }\n",
              "      </script>\n",
              "    </div>\n",
              "  </div>\n",
              "  "
            ]
          },
          "metadata": {},
          "execution_count": 26
        }
      ],
      "source": [
        "# Look at accuracies_table\n",
        "accuracies_table"
      ]
    },
    {
      "cell_type": "markdown",
      "metadata": {
        "id": "FNdgTOZZDL21"
      },
      "source": [
        "## **Question 8:** Inspect Coefficients\n",
        "\n",
        "We'll now look at the **coefficients** for the model that were trained above. We will create a table of features and learned coefficients associated with each of the different L2 penalty values.\n",
        "\n",
        "Using **the coefficients trained with L2 penalty 1**, find the 5 most positive words (with largest positive coefficients). Save them to `positive_words`. Similarly, find the 5 most negative words (with largest negative coefficients) and save them to `negative_words`. The result should be the `'word'` column for the these rows. \n",
        "\n",
        "To be specific, the type of the value we are looking for is a `Series` in `pandas` which is the type of a single row or column in a `DataFrame`. When you have a `DataFrame`, it is a structure with rows and columns. When you access a single column as in `df[column_name]`, this returns a `Series` representing that one column. \n",
        "\n",
        "This means your result for each one of these variables should be a `Series` of length 5 for the respective words.\n",
        "\n",
        "\n",
        "*Hint:* You can use the `.nlargest()` and `.nsmallest()` method on an DataFrame to find the top `n` rows sorted according to the value of a specified column."
      ]
    },
    {
      "cell_type": "code",
      "execution_count": 27,
      "metadata": {
        "id": "u6JAZ-GFDL21"
      },
      "outputs": [],
      "source": [
        "### edTest(test_q8_most_positive_negative) ###\n",
        "\n",
        "\n",
        "# TODO Compute words with the 5 largest coefficients and 5 smallest coefficients\n",
        "l2p1_name = 'coefficients [L2=1e+00]'\n",
        "positive_words = pd.Series(coef_table.nlargest(5, l2p1_name)['word'])\n",
        "negative_words = pd.Series(coef_table.nsmallest(5, l2p1_name)['word'])"
      ]
    },
    {
      "cell_type": "code",
      "execution_count": 28,
      "metadata": {
        "colab": {
          "base_uri": "https://localhost:8080/"
        },
        "id": "f8Uk0DxkDL21",
        "outputId": "be56b19f-a084-4630-b184-af0e70b8f02e"
      },
      "outputs": [
        {
          "output_type": "stream",
          "name": "stdout",
          "text": [
            "3096    great\n",
            "2858    fresh\n",
            "863      best\n",
            "2679     find\n",
            "1920      day\n",
            "Name: word, dtype: object\n",
            "4586       not\n",
            "7497      wont\n",
            "2938      gave\n",
            "694       away\n",
            "6703    tastes\n",
            "Name: word, dtype: object\n"
          ]
        }
      ],
      "source": [
        "print(positive_words)\n",
        "print(negative_words)"
      ]
    },
    {
      "cell_type": "markdown",
      "metadata": {
        "id": "RCBO3XHbDL21"
      },
      "source": [
        "Let us observe the effect of increasing L2 penalty on the 10 words just selected. We provide you with a utility function to  plot the coefficient path."
      ]
    },
    {
      "cell_type": "code",
      "execution_count": 29,
      "metadata": {
        "colab": {
          "base_uri": "https://localhost:8080/",
          "height": 420
        },
        "id": "FiFwKVixDL21",
        "outputId": "818ce71c-8981-4d11-bc54-5de82bd1d4f6"
      },
      "outputs": [
        {
          "output_type": "display_data",
          "data": {
            "text/plain": [
              "<Figure size 720x432 with 1 Axes>"
            ],
            "image/png": "[encoded data removed]"
          },
          "metadata": {
            "needs_background": "light"
          }
        }
      ],
      "source": [
        "def make_coefficient_plot(table, positive_words, negative_words, l2_penalty_list):\n",
        "    def get_cmap_value(cmap, i, total_words):\n",
        "        \"\"\"\n",
        "        Computes a nice scaling of from i=0 to i=total_words - 1\n",
        "        for the given cmap\n",
        "        \"\"\"\n",
        "        return cmap(0.8 * ((i + 1) / (total_words * 1.2) + 0.15))\n",
        "\n",
        "\n",
        "    def plot_coeffs_for_words(ax, words, cmap):\n",
        "        \"\"\"\n",
        "        Given an axes to plot on and a list of words and a cmap,\n",
        "        plots the coefficient paths for each word in words\n",
        "        \"\"\"\n",
        "        words_df = table[table['word'].isin(words)]\n",
        "        words_df = words_df.reset_index(drop=True)  # To make indices sequential\n",
        "\n",
        "        for i, row in words_df.iterrows():\n",
        "            color = get_cmap_value(cmap, i, len(words))\n",
        "            ax.plot(xx, row[row.index != 'word'], '-',\n",
        "                    label=row['word'], linewidth=4.0, color=color)\n",
        "\n",
        "    # Make a canvas to draw on\n",
        "    fig, ax = plt.subplots(1, figsize=(10, 6))\n",
        "   \n",
        "    # Set up the xs to plot and draw a line for y=0\n",
        "    xx = l2_penalty_list\n",
        "    ax.plot(xx, [0.] * len(xx), '--', linewidth=1, color='k')\n",
        "\n",
        "    # Plot the positive and negative coefficient paths\n",
        "    cmap_positive = plt.get_cmap('Reds')\n",
        "    cmap_negative = plt.get_cmap('Blues')\n",
        "    plot_coeffs_for_words(ax, positive_words, cmap_positive)\n",
        "    plot_coeffs_for_words(ax, negative_words, cmap_negative)\n",
        "\n",
        "    # Set up axis labels, scale, and legend  \n",
        "    ax.legend(loc='best', ncol=2, prop={'size':16}, columnspacing=0.5 )\n",
        "    ax.set_title('Coefficient path')\n",
        "    ax.set_xlabel('L2 penalty ($\\lambda$)')\n",
        "    ax.set_ylabel('Coefficient value')\n",
        "    ax.set_xscale('log')\n",
        "\n",
        "\n",
        "make_coefficient_plot(coef_table, positive_words, negative_words, l2_penalty_list=l2_penalties)"
      ]
    }
  ]
}